{
 "metadata": {
  "name": ""
 },
 "nbformat": 3,
 "nbformat_minor": 0,
 "worksheets": [
  {
   "cells": [
    {
     "cell_type": "code",
     "collapsed": false,
     "input": [
      "import numpy as np\n",
      "import matplotlib.pyplot as pl\n",
      "import h5py as hdf5\n",
      "import scipy.stats as sst\n",
      "\n",
      "%matplotlib inline\n",
      "pl.rcParams['text.usetex'] = True \n",
      "pl.rcParams['text.latex.preamble'] = [r'''\n",
      "    \\usepackage{helvet}\n",
      "    \\usepackage[helvet]{sfmath}\n",
      "    ''']\n",
      "pl.rcParams['font.family'] = 'sans-serif'\n",
      "pl.rcParams['font.sans-serif'] = 'ph'\n",
      "pl.rcParams['legend.fontsize'] = 12"
     ],
     "language": "python",
     "metadata": {},
     "outputs": [],
     "prompt_number": null
    },
    {
     "cell_type": "code",
     "collapsed": false,
     "input": [
      "import ctseg_py.stat as mystat\n",
      "reload(mystat);"
     ],
     "language": "python",
     "metadata": {},
     "outputs": [],
     "prompt_number": null
    },
    {
     "cell_type": "code",
     "collapsed": false,
     "input": [
      "with hdf5.File('trusted/result.h5') as fw:\n",
      "    u4_w = fw['U4/mean/value'].value\n",
      "    u4err_w = fw['U4/mean/error'].value\n",
      "    print \"U4(Wolff) =\", u4_w, \"+-\", u4err_w\n",
      "\n",
      "    chi_w = fw['chi/mean/value'].value.reshape(32,32)\n",
      "    chierr_w = fw['chi/mean/error'].value.reshape(32,32)\n",
      "    chibins_w = fw['chi/timeseries/data'].value.T.reshape(32,32,-1)\n",
      "    nbins_w = chibins_w.shape[-1]"
     ],
     "language": "python",
     "metadata": {},
     "outputs": [],
     "prompt_number": null
    },
    {
     "cell_type": "code",
     "collapsed": false,
     "input": [
      "k_b = 1000 * np.asarray([1, 2, 5, 10, 20, 50, 100, 200, 500, 1000])\n",
      "u4_b = []\n",
      "u4err_b = []\n",
      "chi_b = []\n",
      "chierr_b = []\n",
      "chibins_b = []\n",
      "nbins_b = []\n",
      "\n",
      "for ks in k_b:\n",
      "    with hdf5.File('bug%dk/result.h5' % (ks/1000)) as ft:\n",
      "        u4_b += [ft['U4/mean/value'].value]\n",
      "        u4err_b += [ft['U4/mean/error'].value]\n",
      "\n",
      "        chi_b += [ft['chi/mean/value'].value.reshape(32,32)]\n",
      "        chierr_b += [ft['chi/mean/error'].value.reshape(32,32)]\n",
      "        chibins_b += [ft['chi/timeseries/data'].value.T.reshape(32,32,-1)]\n",
      "        nbins_b += [chibins_w.shape[-1]]\n",
      "\n",
      "print \"U4(Type) =\", u4_b, \"+-\", u4err_b"
     ],
     "language": "python",
     "metadata": {},
     "outputs": [],
     "prompt_number": null
    },
    {
     "cell_type": "markdown",
     "metadata": {},
     "source": [
      "**Check U4**"
     ]
    },
    {
     "cell_type": "code",
     "collapsed": false,
     "input": [
      "nbinsa = 121\n",
      "nbinsb = 121\n",
      "\n",
      "t_u4 = [None]*len(k_b)\n",
      "pval_u4 = [None]*len(k_b)\n",
      "for i in range(len(k_b)):\n",
      "    t_u4[i] = (u4_b[i] - u4_w)/np.sqrt(u4err_b[i]**2 + u4err_w**2)\n",
      "    nu_u4 = (u4err_b[i]**2 + u4err_w**2)**2/(u4err_b[i]**4/nbinsa + u4err_b[i]**4/nbinsb)\n",
      "    tdist_u4 = sst.t(nu_u4)\n",
      "    pval_u4[i] = 2 * tdist_u4.sf(np.abs(t_u4[i]))"
     ],
     "language": "python",
     "metadata": {},
     "outputs": [],
     "prompt_number": null
    },
    {
     "cell_type": "code",
     "collapsed": false,
     "input": [
      "pl.figure(figsize=(5,5), dpi=200)\n",
      "\n",
      "pl.subplot(211)\n",
      "r = np.array([.9*k_b[0],1.1*k_b[-1]])\n",
      "pl.fill_between(r, [u4_w-u4err_w]*2, [u4_w+u4err_w]*2, alpha=0.4)\n",
      "pl.plot(r, [u4_w]*2, label=r'trusted')\n",
      "\n",
      "pl.errorbar(k_b, u4_b, u4err_b, label=r'erroneous')\n",
      "pl.legend()\n",
      "\n",
      "pl.xscale('log')\n",
      "pl.xlim(*r)\n",
      "pl.ylim(.546,.580)\n",
      "pl.xticks([])\n",
      "\n",
      "pl.ylabel(r'$U_4$')\n",
      "#pl.title(r'2D Ising, $L=32, h=0, T=2.3, J=1$')\n",
      "pl.text(-0.15, 0.95, '(a)', weight='bold', size=12,\n",
      "        horizontalalignment='left', verticalalignment='top',\n",
      "        transform=pl.gca().transAxes)\n",
      "\n",
      "pl.subplot(212)\n",
      "pl.plot(k_b, pval_u4, '-+b', label=r'trusted')\n",
      "\n",
      "pl.ylabel(r'$p$')\n",
      "#pl.yscale('log')\n",
      "#pl.ylim(1e-6, 1)\n",
      "\n",
      "pl.fill_between(r, .01 * np.ones_like(r), color='red', alpha=0.2)\n",
      "pl.text(1.1e3, .8e-2, 'failed test', size=10, color='darkred',\n",
      "        horizontalalignment='left', verticalalignment='top')\n",
      "pl.yscale('log')\n",
      "pl.ylim(1e-4,1)\n",
      "\n",
      "pl.xscale('log')\n",
      "pl.xlim(*r)\n",
      "pl.xlabel(r'$N^\\prime$')\n",
      "pl.text(-0.15, 0.95, '(b)', weight='bold', size=12,\n",
      "        horizontalalignment='left', verticalalignment='top',\n",
      "        transform=pl.gca().transAxes)\n",
      "\n",
      "pl.axes((.65, .28, .34, .245))\n",
      "\n",
      "x = np.linspace(-3, 3, 300)\n",
      "xsel = x.searchsorted(t_u4[0])\n",
      "pl.fill_between(x[:xsel], tdist_u4.pdf(x[:xsel]), alpha=0.3)\n",
      "pl.fill_between(x[-xsel:], tdist_u4.pdf(x[-xsel:]), alpha=0.3)\n",
      "pl.plot(x, tdist_u4.pdf(x), label=r'')\n",
      "pl.plot(t_u4[0], tdist_u4.pdf(t_u4[0]), 'ob', label=r'')\n",
      "print t_u4[0]\n",
      "#pl.legend(loc=(-0.05,0.8))\n",
      "\n",
      "#pl.gca().yaxis.tick_right()\n",
      "pl.yticks(.1 * np.arange(5))\n",
      "pl.xticks(np.arange(-2,3))\n",
      "pl.ylabel(r'p.d.f. $t_{121}$')\n",
      "pl.xlabel(r'$t$')\n",
      "pl.ylim(0, 0.43)\n",
      "\n",
      "pl.text(0.95, 0.95, '(c)', weight='bold', size=12,\n",
      "        horizontalalignment='right', verticalalignment='top',\n",
      "        transform=pl.gca().transAxes)\n",
      "\n",
      "pl.tight_layout(pad=0)\n",
      "pl.savefig('../../figs/u4_buggy.pdf')\n",
      "pl.savefig('../../figs/u4_buggy.svg')"
     ],
     "language": "python",
     "metadata": {},
     "outputs": [],
     "prompt_number": null
    },
    {
     "cell_type": "code",
     "collapsed": false,
     "input": [
      "t_u4 = (u4_b[0] - u4_w)/np.sqrt(u4err_b[0]**2 + u4err_w**2)\n",
      "nu_u4 = (u4err_b[0]**2 + u4err_w**2)**2/(u4err_b[0]**4/121 + u4err_b[0]**4/121)\n",
      "tdist_u4 = sst.t(nu_u4)\n",
      "pval_u4 = 2 * tdist_u4.sf(np.abs(t_u4))\n",
      "\n",
      "print \"t score =\", t_u4\n",
      "print \"dof =\", nu_u4\n",
      "print \"p value =\", pval_u4"
     ],
     "language": "python",
     "metadata": {},
     "outputs": [],
     "prompt_number": null
    },
    {
     "cell_type": "code",
     "collapsed": false,
     "input": [],
     "language": "python",
     "metadata": {},
     "outputs": []
    },
    {
     "cell_type": "code",
     "collapsed": false,
     "input": [],
     "language": "python",
     "metadata": {},
     "outputs": []
    },
    {
     "cell_type": "code",
     "collapsed": false,
     "input": [],
     "language": "python",
     "metadata": {},
     "outputs": []
    },
    {
     "cell_type": "code",
     "collapsed": false,
     "input": [],
     "language": "python",
     "metadata": {},
     "outputs": []
    },
    {
     "cell_type": "code",
     "collapsed": false,
     "input": [],
     "language": "python",
     "metadata": {},
     "outputs": []
    },
    {
     "cell_type": "code",
     "collapsed": false,
     "input": [],
     "language": "python",
     "metadata": {},
     "outputs": [],
     "prompt_number": null
    },
    {
     "cell_type": "code",
     "collapsed": false,
     "input": [
      "pl.errorbar(np.arange(16), chi_w[0,:16], chierr_w[0,:16])\n",
      "pl.errorbar(np.arange(16), chi_b[0][0,:16], chierr_b[0][0,:16])"
     ],
     "language": "python",
     "metadata": {},
     "outputs": [],
     "prompt_number": null
    },
    {
     "cell_type": "code",
     "collapsed": false,
     "input": [
      "pl.errorbar(np.arange(32), chi_b[0][0] - chi_w[0], chierr_b[0][0])\n",
      "pl.errorbar(np.arange(32), np.zeros(32), chierr_w[0])\n",
      "pl.xlim(0,16.5)"
     ],
     "language": "python",
     "metadata": {},
     "outputs": [],
     "prompt_number": null
    },
    {
     "cell_type": "markdown",
     "metadata": {},
     "source": [
      "**Autocorrelation**\n",
      "\n",
      "The errorbars are clearly wrong due to autocorrelation ... let's just plot the covariances"
     ]
    },
    {
     "cell_type": "code",
     "collapsed": false,
     "input": [
      "pl.errorbar(np.arange(16), chi_w[0,:16])\n",
      "pl.errorbar(np.arange(16), chibins_w[0,:16].mean(-1))"
     ],
     "language": "python",
     "metadata": {},
     "outputs": [],
     "prompt_number": null
    },
    {
     "cell_type": "code",
     "collapsed": false,
     "input": [
      "pl.pcolormesh(mystat.cov_normalise(np.cov(chibins_t[:,0,:])),\n",
      "              vmin=-1, vmax=1, cmap='bwr_r')\n",
      "pl.gca().axis('tight')\n",
      "pl.colorbar()"
     ],
     "language": "python",
     "metadata": {},
     "outputs": [],
     "prompt_number": null
    },
    {
     "cell_type": "code",
     "collapsed": false,
     "input": [
      "pl.pcolormesh(mystat.cov_normalise(np.cov(chibins_t[:,0,:])),\n",
      "              vmin=-1, vmax=1, cmap='bwr_r')\n",
      "pl.gca().axis('tight')\n",
      "pl.colorbar()"
     ],
     "language": "python",
     "metadata": {},
     "outputs": [],
     "prompt_number": null
    },
    {
     "cell_type": "code",
     "collapsed": false,
     "input": [
      "pl.errorbar(np.arange(32), chi_w[0], chierr_w[0])\n",
      "pl.errorbar(np.arange(32), chi_w[:,0], chierr_w[:,0])\n",
      "pl.xlim(0,16.5)"
     ],
     "language": "python",
     "metadata": {},
     "outputs": [],
     "prompt_number": null
    },
    {
     "cell_type": "code",
     "collapsed": false,
     "input": [
      "t_u4 = (u4_t - u4_w)/np.sqrt(u4err_t**2 + u4err_w**2)\n",
      "nu_u4 = (u4err_t**2 + u4err_w**2)**2/(u4err_t**4/121 + u4err_w**4/121)\n",
      "print \"t score =\", t_u4\n",
      "print \"dof =\", nu_u4"
     ],
     "language": "python",
     "metadata": {},
     "outputs": [],
     "prompt_number": null
    },
    {
     "cell_type": "code",
     "collapsed": false,
     "input": [
      "pl.plot(np.linspace(-4,4), \n",
      "        tdist_u4.pdf(np.linspace(-4,4)))"
     ],
     "language": "python",
     "metadata": {},
     "outputs": [],
     "prompt_number": null
    },
    {
     "cell_type": "code",
     "collapsed": false,
     "input": [
      "print \"pvalue =\", 2 * tdist_u4.sf(np.abs(t_u4))"
     ],
     "language": "python",
     "metadata": {},
     "outputs": [],
     "prompt_number": null
    },
    {
     "cell_type": "code",
     "collapsed": false,
     "input": [
      "diff, cov = mystat.get_pooled_covariance(chibins_t[0], chibins_w[0])"
     ],
     "language": "python",
     "metadata": {},
     "outputs": [],
     "prompt_number": null
    },
    {
     "cell_type": "code",
     "collapsed": false,
     "input": [
      "corr = mystat.cov_normalise(cov)\n",
      "pl.pcolormesh(corr, cmap='bwr_r')\n",
      "pl.gca().axis('tight')\n",
      "pl.colorbar()"
     ],
     "language": "python",
     "metadata": {},
     "outputs": [],
     "prompt_number": null
    },
    {
     "cell_type": "code",
     "collapsed": false,
     "input": [
      "pl.semilogy(np.linalg.eigvalsh(np.cov(chibins_t[0])))\n",
      "pl.semilogy(np.linalg.eigvalsh(np.cov(chibins_w[0])))\n",
      "pl.semilogy(np.linalg.eigvalsh(cov))"
     ],
     "language": "python",
     "metadata": {},
     "outputs": [],
     "prompt_number": null
    },
    {
     "cell_type": "code",
     "collapsed": false,
     "input": [
      "diff_r, pvar_r = mystat.diag_covariance(diff, cov)"
     ],
     "language": "python",
     "metadata": {},
     "outputs": [],
     "prompt_number": null
    },
    {
     "cell_type": "code",
     "collapsed": false,
     "input": [
      "pl.plot(diff_r)\n",
      "pl.plot(pvar_r)"
     ],
     "language": "python",
     "metadata": {},
     "outputs": [],
     "prompt_number": null
    },
    {
     "cell_type": "code",
     "collapsed": false,
     "input": [
      "tsq = mystat.tsquared_symm_score(diff_r, pvar_r, nbins_w, nbins_t)\n",
      "tsq"
     ],
     "language": "python",
     "metadata": {},
     "outputs": [],
     "prompt_number": null
    },
    {
     "cell_type": "code",
     "collapsed": false,
     "input": [
      "def fplot(ax, dist, p=None, label='p.d.f.', sigm=4):\n",
      "    fcumsigma = sst.norm(0, 1).cdf(np.arange(-sigm, sigm+1))\n",
      "    xsigma = dist.ppf(fcumsigma)\n",
      "    xmean = xsigma[xsigma.size//2]\n",
      "\n",
      "    x = np.linspace(xsigma[0], xsigma[-1], 500)\n",
      "    for i in range(1, np.minimum(sigm,4)):\n",
      "        xupper = xsigma[xsigma.size//2 + i]\n",
      "        xlower = xsigma[xsigma.size//2 - i]\n",
      "        inner = slice(x.searchsorted(xlower), x.searchsorted(xupper))\n",
      "        ax.fill_between(x[inner], dist.pdf(x[inner]), alpha=0.4/sigm)\n",
      "\n",
      "    ax.plot(x, dist.pdf(x), label=label)\n",
      "    ax.plot([xmean] * 2, [0, dist.pdf(xmean)], '-b')\n",
      "    if p:\n",
      "        ax.plot([p], [dist.pdf(p)], 'or', ms=8)\n",
      "\n",
      "    ax.xlim(xsigma[0], xsigma[-1])\n",
      "    ax.legend()"
     ],
     "language": "python",
     "metadata": {},
     "outputs": [],
     "prompt_number": null
    },
    {
     "cell_type": "code",
     "collapsed": false,
     "input": [
      "fplot(pl, tsq['fdist'], tsq['t2_normed'], sigm=4,\n",
      "      label='$F_{N,%d}$' % tsq['ndata'])"
     ],
     "language": "python",
     "metadata": {},
     "outputs": [],
     "prompt_number": null
    },
    {
     "cell_type": "code",
     "collapsed": false,
     "input": [],
     "language": "python",
     "metadata": {},
     "outputs": []
    }
   ],
   "metadata": {}
  }
 ]
}
