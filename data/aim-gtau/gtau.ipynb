{
 "metadata": {
  "anaconda-cloud": {},
  "kernelspec": {
   "display_name": "Python [default]",
   "language": "python",
   "name": "python2"
  },
  "language_info": {
   "codemirror_mode": {
    "name": "ipython",
    "version": 2
   },
   "file_extension": ".py",
   "mimetype": "text/x-python",
   "name": "python",
   "nbconvert_exporter": "python",
   "pygments_lexer": "ipython2",
   "version": "2.7.12"
  },
  "name": ""
 },
 "nbformat": 3,
 "nbformat_minor": 0,
 "worksheets": [
  {
   "cells": [
    {
     "cell_type": "code",
     "collapsed": false,
     "input": [
      "import os\n",
      "import sys\n",
      "import numpy as np\n",
      "from warnings import warn\n",
      "import matplotlib.pyplot as pl\n",
      "import scipy.stats as stat\n",
      "\n",
      "%matplotlib inline\n",
      "\n",
      "pl.rcParams['text.usetex'] = True \n",
      "pl.rcParams['text.latex.preamble'] = [r'''\n",
      "    \\usepackage{helvet}\n",
      "    \\usepackage[helvet]{sfmath}\n",
      "    ''']\n",
      "pl.rcParams['font.family'] = 'sans-serif'\n",
      "pl.rcParams['font.sans-serif'] = 'ph'\n",
      "pl.rcParams['legend.fontsize'] = 12"
     ],
     "language": "python",
     "metadata": {},
     "outputs": [],
     "prompt_number": null
    },
    {
     "cell_type": "code",
     "collapsed": false,
     "input": [
      "sys.path = ['../../ctseg/python'] + sys.path"
     ],
     "language": "python",
     "metadata": {},
     "outputs": [],
     "prompt_number": null
    },
    {
     "cell_type": "code",
     "collapsed": false,
     "input": [
      "import ctseg_py.stat as mystat\n",
      "reload(mystat)"
     ],
     "language": "python",
     "metadata": {},
     "outputs": [],
     "prompt_number": null
    },
    {
     "cell_type": "code",
     "collapsed": false,
     "input": [
      "pl.rc('figure', figsize=(6,4))\n",
      "pl.rc('text', usetex=True)"
     ],
     "language": "python",
     "metadata": {},
     "outputs": [],
     "prompt_number": null
    },
    {
     "cell_type": "code",
     "collapsed": false,
     "input": [
      "def tsquared_score(batches, exact, axis=-1):\n",
      "    nbatch = batches.shape[axis]\n",
      "    diff, cov = mystat.get_covariance(batches, exact, axis)\n",
      "    diff, var = mystat.diag_covariance(diff, cov)\n",
      "    return mystat.tsquared_score(diff, var, nbatch)"
     ],
     "language": "python",
     "metadata": {},
     "outputs": [],
     "prompt_number": null
    },
    {
     "cell_type": "markdown",
     "metadata": {},
     "source": [
      "Do test\n",
      "-------"
     ]
    },
    {
     "cell_type": "code",
     "collapsed": true,
     "input": [
      "import subprocess\n",
      "import shutil\n",
      "import glob"
     ],
     "language": "python",
     "metadata": {},
     "outputs": [],
     "prompt_number": null
    },
    {
     "cell_type": "code",
     "collapsed": true,
     "input": [
      "def gtau_match_ed(batches, exact):\n",
      "    skip = batches.shape[-1]/(exact.shape[-1] - 1.)\n",
      "    if skip != int(skip):\n",
      "        raise ValueError(\"Different grids for gtau\")\n",
      "    \n",
      "    skip = int(skip)\n",
      "    ed_skip = 1\n",
      "    should_be_one = 0\n",
      "    if skip % 2 != 0:\n",
      "        skip *= 2\n",
      "        ed_skip *= 2\n",
      "        \n",
      "    if batches.ndim <= 3:\n",
      "        xbatches = np.zeros(batches.shape[:1] + batches.shape[1:2]*2\n",
      "                            + batches.shape[2:], batches.dtype)\n",
      "        i = np.arange(xbatches.shape[1])\n",
      "        xbatches[:, i, i, :] = batches\n",
      "        batches = xbatches\n",
      "    \n",
      "    batches = batches[:, :, :, skip//2::skip]\n",
      "    exact = exact[:, :, should_be_one:(None if should_be_one else -1):ed_skip]\n",
      "\n",
      "    if batches.shape[1:] != exact.shape:\n",
      "        print batches.shape, exact.shape\n",
      "        raise RuntimeError(\"Something wrong...\")\n",
      "    return batches, exact"
     ],
     "language": "python",
     "metadata": {},
     "outputs": [],
     "prompt_number": null
    },
    {
     "cell_type": "code",
     "collapsed": true,
     "input": [
      "datapoints = []\n",
      "rng = np.random.RandomState(4712)"
     ],
     "language": "python",
     "metadata": {},
     "outputs": [],
     "prompt_number": null
    },
    {
     "cell_type": "code",
     "collapsed": false,
     "input": [
      "# ==== TAKES A LONG TIME\n",
      "u_value = 1.0\n",
      "mu = 0.5\n",
      "pvalue = 1.0\n",
      "\n",
      "u_new = u_value + rng.normal(scale=0.1)\n",
      "mu_new = mu + rng.normal(scale=0.1)\n",
      "args = [\"edcheck.in\",\n",
      "    \"--new\",\n",
      "    \"--batches=2000\",\n",
      "    \"--ntau=500\",\n",
      "    \"--steps=100000\",\n",
      "    \"--errors=simple\",\n",
      "    \"--u-value=%g\" % u_new,\n",
      "    \"--mu=%g\" % mu_new,\n",
      "   ]\n",
      "print >> sys.stderr, \" \".join(args)\n",
      "\n",
      "print >> sys.stderr, u_new, mu_new\n",
      "for dirname in glob.glob('./qmctest-*'):\n",
      "    shutil.rmtree(dirname)\n",
      "\n",
      "c = subprocess.check_call([\"ctseg-parallel\"] + args + [\"--title=qmctest\"])\n",
      "outfiles = glob.glob('./qmctest-*/batch-*.npz')"
     ],
     "language": "python",
     "metadata": {},
     "outputs": [],
     "prompt_number": null
    },
    {
     "cell_type": "code",
     "collapsed": false,
     "input": [
      "#for dirname in glob.glob('./edtest*'):\n",
      "#    shutil.rmtree(dirname)\n",
      "#print >> sys.stderr, \" \".join([\"ed.py\"] + args + [\"--title=edtest\"])\n",
      "#d = subprocess.check_call([\"ed.py\"] + args + [\"--title=edtest\"])"
     ],
     "language": "python",
     "metadata": {},
     "outputs": [],
     "prompt_number": null
    },
    {
     "cell_type": "code",
     "collapsed": false,
     "input": [
      "batches = np.array([np.load(fname)['gtau'] for fname in outfiles[:3000]])\n",
      "exact = np.load('./edtest/results.npz')['gtau']\n",
      "batches, exact = gtau_match_ed(batches, exact)\n",
      "\n",
      "result = tsquared_score(batches[:,0,0], exact[0,0], axis=0)\n",
      "print >> sys.stderr, result\n",
      "pvalue_new = np.minimum(result[\"pupper\"], result[\"plower\"])\n",
      "\n",
      "if pvalue_new < pvalue:\n",
      "    u_value = u_new\n",
      "    mu = mu_new\n",
      "    pvalue = pvalue_new\n",
      "    datapoints.append((u_value, mu, pvalue))"
     ],
     "language": "python",
     "metadata": {},
     "outputs": [],
     "prompt_number": null
    },
    {
     "cell_type": "code",
     "collapsed": false,
     "input": [
      "pl.figure(figsize=(5,6), dpi=400)\n",
      "\n",
      "pl.subplot(211)\n",
      "\n",
      "tau = (np.arange(batches.shape[-1]) + 0.5) * 10./batches.shape[-1]\n",
      "gtau_mean = batches.mean(0)[0,0]\n",
      "gtau_err = batches.std(0)[0,0]/np.sqrt(batches.shape[0])\n",
      "gtau_ex = exact[0,0]\n",
      "\n",
      "pl.errorbar(tau, gtau_mean, gtau_err, color='red')\n",
      "pl.plot(tau, gtau_ex, '-k')\n",
      "\n",
      "pl.ylim(None, 0.)\n",
      "pl.ylabel(r'$G(\\tau)$')\n",
      "pl.gca().get_xaxis().set_ticklabels([])\n",
      "\n",
      "pl.text(-0.08, 0.95, '(a)', weight='bold', size=12,\n",
      "        horizontalalignment='right', verticalalignment='top',\n",
      "        transform=pl.gca().transAxes)\n",
      "\n",
      "pl.axes((.23, .6, .27, .25))\n",
      "pl.errorbar(tau, gtau_mean, gtau_err, color='red')\n",
      "pl.plot(tau, gtau_ex, '-k')\n",
      "pl.xlim(0,0.5)\n",
      "pl.ylim(-.58,-.25)\n",
      "pl.gca().yaxis.set_ticklabels([])\n",
      "\n",
      "pl.axes((.58, .6, .27, .25))\n",
      "pl.errorbar(tau, gtau_mean, gtau_err, color='red')\n",
      "pl.plot(tau, gtau_ex, '-k')\n",
      "pl.xlim(9.5,10.0)\n",
      "pl.ylim(-.55,-.30)\n",
      "pl.gca().yaxis.set_ticklabels([])\n",
      "\n",
      "pl.subplot(212)\n",
      "\n",
      "score = (batches.mean(0) - exact)/batches.std(0) * np.sqrt(1. * batches.shape[0])\n",
      "\n",
      "tau = np.linspace(0, 10, batches.shape[-1], True)\n",
      "pl.plot(tau, score[0,0], '-r', label=r'difference')\n",
      "#pl.plot(tau, score[1,1], '-b', label=r'$G_{\\downarrow\\downarrow}$')\n",
      "\n",
      "slope, intercept, r_value, p_value, std_err = stat.linregress(tau, score[0,0])\n",
      "pl.plot(tau, slope*tau + intercept, ':k', lw=2, label=r'$R^2=%.2g$' % r_value**2)\n",
      "\n",
      "pl.legend()\n",
      "pl.ylabel(r'$[\\langle G\\rangle - G_{\\mathrm{exact}}]/\\Delta G$')\n",
      "pl.xlabel(r'$\\tau$')\n",
      "pl.ylim(-4, 4)\n",
      "\n",
      "pl.text(-0.08, 0.95, '(b)', weight='bold', size=12,\n",
      "        horizontalalignment='right', verticalalignment='top',\n",
      "        transform=pl.gca().transAxes)\n",
      "\n",
      "pl.tight_layout(pad=0)\n",
      "pl.savefig('../../figs/aim-shift.svg')\n",
      "pl.savefig('../../figs/aim-shift.pdf')"
     ],
     "language": "python",
     "metadata": {},
     "outputs": [],
     "prompt_number": null
    },
    {
     "cell_type": "code",
     "collapsed": false,
     "input": [
      "print slope, intercept"
     ],
     "language": "python",
     "metadata": {},
     "outputs": [],
     "prompt_number": null
    },
    {
     "cell_type": "code",
     "collapsed": true,
     "input": [],
     "language": "python",
     "metadata": {},
     "outputs": [],
     "prompt_number": null
    }
   ],
   "metadata": {}
  }
 ]
}