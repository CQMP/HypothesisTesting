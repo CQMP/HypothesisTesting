{
 "metadata": {
  "name": ""
 },
 "nbformat": 3,
 "nbformat_minor": 0,
 "worksheets": [
  {
   "cells": [
    {
     "cell_type": "code",
     "collapsed": false,
     "input": [
      "import numpy as np\n",
      "import matplotlib.pyplot as pl\n",
      "import h5py as hdf5\n",
      "import scipy.stats as sst\n",
      "\n",
      "%matplotlib inline\n",
      "pl.rcParams['text.usetex'] = True \n",
      "pl.rcParams['text.latex.preamble'] = [r'''\n",
      "    \\usepackage{helvet}\n",
      "    \\usepackage[helvet]{sfmath}\n",
      "    ''']\n",
      "pl.rcParams['font.family'] = 'sans-serif'\n",
      "pl.rcParams['font.sans-serif'] = 'ph'\n",
      "pl.rcParams['legend.fontsize'] = 12"
     ],
     "language": "python",
     "metadata": {},
     "outputs": [],
     "prompt_number": null
    },
    {
     "cell_type": "code",
     "collapsed": false,
     "input": [
      "import ctseg_py.stat as mystat\n",
      "reload(mystat);"
     ],
     "language": "python",
     "metadata": {},
     "outputs": [],
     "prompt_number": null
    },
    {
     "cell_type": "code",
     "collapsed": false,
     "input": [
      "t = np.arange(10, 42, 2) * 0.1\n",
      "t"
     ],
     "language": "python",
     "metadata": {},
     "outputs": [],
     "prompt_number": null
    },
    {
     "cell_type": "code",
     "collapsed": false,
     "input": [
      "m_t = np.zeros(len(t))\n",
      "merr_t = np.zeros(len(t))\n",
      "n_t = np.zeros(len(t))\n",
      "\n",
      "for i, tee in enumerate(t):\n",
      "    with hdf5.File('tt%.1f/result.h5' % tee) as ft:\n",
      "        m_t[i] = ft['m/mean/value'].value\n",
      "        merr_t[i] = ft['m/mean/error'].value\n",
      "        n_t[i] = ft['m/count'].value/np.abs(ft['m/tau'].value)"
     ],
     "language": "python",
     "metadata": {},
     "outputs": [],
     "prompt_number": null
    },
    {
     "cell_type": "code",
     "collapsed": false,
     "input": [
      "m_w = np.zeros(len(t))\n",
      "merr_w = np.zeros(len(t))\n",
      "n_w = np.zeros(len(t))\n",
      "\n",
      "for i, tee in enumerate(t):\n",
      "    with hdf5.File('wt%.1f/result.h5' % tee) as fw:\n",
      "        m_w[i] = fw['m/mean/value'].value\n",
      "        merr_w[i] = fw['m/mean/error'].value\n",
      "        n_w[i] = fw['m/count'].value/np.abs(fw['m/tau'].value)"
     ],
     "language": "python",
     "metadata": {},
     "outputs": [],
     "prompt_number": null
    },
    {
     "cell_type": "code",
     "collapsed": false,
     "input": [
      "pl.errorbar(t, np.abs(m_w), merr_w, fmt='-sb',\n",
      "            markeredgecolor='blue', markerfacecolor='none',\n",
      "            label='Wolff')\n",
      "pl.errorbar(t, np.abs(m_t), merr_t, fmt='-+r', label='spin flip')\n",
      "pl.ylim(-.02, 1.02)\n",
      "pl.legend(prop={'weight':'normal'})"
     ],
     "language": "python",
     "metadata": {},
     "outputs": [],
     "prompt_number": null
    },
    {
     "cell_type": "code",
     "collapsed": false,
     "input": [
      "t2_t = m_t/merr_t\n",
      "t2_w = m_w/merr_w"
     ],
     "language": "python",
     "metadata": {},
     "outputs": [],
     "prompt_number": null
    },
    {
     "cell_type": "code",
     "collapsed": false,
     "input": [
      "pl.plot(t, np.abs(t2_t), '-+r')\n",
      "pl.plot(t, np.abs(t2_w), '-+b')\n",
      "pl.ylim(0, 3)"
     ],
     "language": "python",
     "metadata": {},
     "outputs": [],
     "prompt_number": null
    },
    {
     "cell_type": "code",
     "collapsed": false,
     "input": [
      "p_t = 2 * sst.t.sf(np.abs(t2_t), n_t)\n",
      "p_w = 2 * sst.t.sf(np.abs(t2_w), n_w)"
     ],
     "language": "python",
     "metadata": {},
     "outputs": [],
     "prompt_number": null
    },
    {
     "cell_type": "code",
     "collapsed": false,
     "input": [
      "pl.plot(t, np.abs(p_t), '-+r')\n",
      "pl.plot(t, np.abs(p_w), '-+b')\n",
      "pl.ylim(0,1)"
     ],
     "language": "python",
     "metadata": {},
     "outputs": [],
     "prompt_number": null
    },
    {
     "cell_type": "code",
     "collapsed": false,
     "input": [
      "pl.figure(figsize=(5,5), dpi=400)\n",
      "\n",
      "pl.subplot(311)\n",
      "pl.errorbar(t, np.abs(m_w), merr_w, fmt='-sb',\n",
      "            markeredgecolor='blue', markerfacecolor='none',\n",
      "            label='Wolff cluster')\n",
      "pl.errorbar(t, np.abs(m_t), merr_t, fmt='-+r', label='single spin flip')\n",
      "pl.ylim(-.02, 1.02)\n",
      "pl.legend()\n",
      "\n",
      "pl.ylabel(r'$|\\langle m\\rangle|$')\n",
      "pl.gca().get_xaxis().set_ticklabels([])\n",
      "pl.text(-0.08, 0.95, '(a)', weight='bold', size=12,\n",
      "        horizontalalignment='right', verticalalignment='top',\n",
      "        transform=pl.gca().transAxes)\n",
      "\n",
      "\n",
      "pl.subplot(312)\n",
      "pl.plot(t, np.abs(t2_t), '-+r')\n",
      "pl.plot(t, np.abs(t2_w), '-+b')\n",
      "pl.ylim(0, 3)\n",
      "\n",
      "pl.ylabel(r'$|t|$')\n",
      "pl.gca().get_xaxis().set_ticklabels([])\n",
      "pl.text(-0.08, 0.95, '(b)', weight='bold', size=12,\n",
      "        horizontalalignment='right', verticalalignment='top',\n",
      "        transform=pl.gca().transAxes)\n",
      "\n",
      "pl.subplot(313)\n",
      "pl.plot(t, np.abs(p_t), '-+r')\n",
      "pl.plot(t, np.abs(p_w), '-+b')\n",
      "pl.fill_between(t, .01 * np.ones_like(t), color='red', alpha=0.2)\n",
      "pl.text(3.95, .8e-2, 'failed test', size=10, color='darkred',\n",
      "        horizontalalignment='right', verticalalignment='top')\n",
      "pl.yscale('log')\n",
      "pl.ylim(1e-4,1)\n",
      "\n",
      "pl.ylabel(r'$p$')\n",
      "pl.xlabel(r'$T$')\n",
      "pl.text(-0.08, 0.95, '(c)', weight='bold', size=12,\n",
      "        horizontalalignment='right', verticalalignment='top',\n",
      "        transform=pl.gca().transAxes)\n",
      "\n",
      "pl.tight_layout(pad=0)\n",
      "pl.savefig('../../figs/m.pdf')\n",
      "pl.savefig('../../figs/m.svg')"
     ],
     "language": "python",
     "metadata": {},
     "outputs": [],
     "prompt_number": null
    },
    {
     "cell_type": "code",
     "collapsed": false,
     "input": [],
     "language": "python",
     "metadata": {},
     "outputs": [],
     "prompt_number": null
    },
    {
     "cell_type": "code",
     "collapsed": false,
     "input": [],
     "language": "python",
     "metadata": {},
     "outputs": [],
     "prompt_number": null
    },
    {
     "cell_type": "code",
     "collapsed": false,
     "input": [],
     "language": "python",
     "metadata": {},
     "outputs": [],
     "prompt_number": null
    },
    {
     "cell_type": "code",
     "collapsed": false,
     "input": [],
     "language": "python",
     "metadata": {},
     "outputs": [],
     "prompt_number": null
    },
    {
     "cell_type": "code",
     "collapsed": false,
     "input": [],
     "language": "python",
     "metadata": {},
     "outputs": []
    }
   ],
   "metadata": {}
  }
 ]
}
