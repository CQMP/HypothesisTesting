{
 "metadata": {
  "name": ""
 },
 "nbformat": 3,
 "nbformat_minor": 0,
 "worksheets": [
  {
   "cells": [
    {
     "cell_type": "code",
     "collapsed": false,
     "input": [
      "import numpy as np\n",
      "import matplotlib.pyplot as pl\n",
      "import h5py as hdf5\n",
      "import scipy.stats as sst\n",
      "\n",
      "%matplotlib inline\n",
      "pl.rcParams['text.usetex'] = True \n",
      "pl.rcParams['text.latex.preamble'] = [r'''\n",
      "    \\usepackage{helvet}\n",
      "    \\usepackage[helvet]{sfmath}\n",
      "    ''']\n",
      "pl.rcParams['font.family'] = 'sans-serif'\n",
      "pl.rcParams['font.sans-serif'] = 'ph'\n",
      "pl.rcParams['legend.fontsize'] = 12"
     ],
     "language": "python",
     "metadata": {},
     "outputs": [],
     "prompt_number": null
    },
    {
     "cell_type": "code",
     "collapsed": false,
     "input": [
      "import ctseg_py.stat as mystat\n",
      "reload(mystat);"
     ],
     "language": "python",
     "metadata": {},
     "outputs": [],
     "prompt_number": null
    },
    {
     "cell_type": "code",
     "collapsed": false,
     "input": [
      "with hdf5.File('wolff/result.h5') as fw:\n",
      "    u4_w = fw['U4/mean/value'].value\n",
      "    u4err_w = fw['U4/mean/error'].value\n",
      "    print \"U4(Wolff) =\", u4_w, \"+-\", u4err_w\n",
      "\n",
      "    chi_w = fw['chi/mean/value'].value.reshape(32,32)\n",
      "    chierr_w = fw['chi/mean/error'].value.reshape(32,32)\n",
      "    chibins_w = fw['chi/timeseries/data'].value.T.reshape(32,32,-1)\n",
      "    nbins_w = chibins_w.shape[-1]"
     ],
     "language": "python",
     "metadata": {},
     "outputs": [],
     "prompt_number": null
    },
    {
     "cell_type": "code",
     "collapsed": false,
     "input": [
      "with hdf5.File('type/result.h5') as ft:\n",
      "    u4_t = ft['U4/mean/value'].value\n",
      "    u4err_t = ft['U4/mean/error'].value\n",
      "    print \"U4(Type) =\", u4_t, \"+-\", u4err_t\n",
      "\n",
      "    chi_t = ft['chi/mean/value'].value.reshape(32,32)\n",
      "    chierr_t = ft['chi/mean/error'].value.reshape(32,32)\n",
      "    chibins_t = ft['chi/timeseries/data'].value.T.reshape(32,32,-1)\n",
      "    nbins_t = chibins_w.shape[-1]"
     ],
     "language": "python",
     "metadata": {},
     "outputs": [],
     "prompt_number": null
    },
    {
     "cell_type": "code",
     "collapsed": false,
     "input": [
      "pl.errorbar(np.arange(16), chi_w[0,:16], chierr_w[0,:16])\n",
      "pl.errorbar(np.arange(16), chi_t[0,:16], chierr_t[0,:16])"
     ],
     "language": "python",
     "metadata": {},
     "outputs": [],
     "prompt_number": null
    },
    {
     "cell_type": "code",
     "collapsed": false,
     "input": [
      "pl.errorbar(np.arange(32), chi_t[0] - chi_w[0], chierr_t[0], color='red',\n",
      "            label='test')\n",
      "pl.fill_between(np.arange(32), chierr_w[0], -chierr_w[0],\n",
      "                color='black', alpha=0.3, label='trusted')\n",
      "pl.plot(np.arange(32), np.zeros(32), color='gray')\n",
      "pl.legend(loc='upper left')\n",
      "pl.xlim(0,16.5)"
     ],
     "language": "python",
     "metadata": {},
     "outputs": [],
     "prompt_number": null
    },
    {
     "cell_type": "markdown",
     "metadata": {},
     "source": [
      "**Autocorrelation**\n",
      "\n",
      "The errorbars are clearly wrong due to autocorrelation ... let's just plot the covariances"
     ]
    },
    {
     "cell_type": "code",
     "collapsed": false,
     "input": [
      "pl.errorbar(np.arange(16), chi_w[0,:16])\n",
      "pl.errorbar(np.arange(16), chibins_w[0,:16].mean(-1))"
     ],
     "language": "python",
     "metadata": {},
     "outputs": [],
     "prompt_number": null
    },
    {
     "cell_type": "code",
     "collapsed": false,
     "input": [
      "pl.pcolormesh(mystat.cov_normalise(np.cov(chibins_t[:,0,:])),\n",
      "              vmin=-1, vmax=1, cmap='bwr_r')\n",
      "pl.gca().axis('tight')\n",
      "pl.colorbar()"
     ],
     "language": "python",
     "metadata": {},
     "outputs": [],
     "prompt_number": null
    },
    {
     "cell_type": "code",
     "collapsed": false,
     "input": [
      "pl.pcolormesh(mystat.cov_normalise(np.cov(chibins_t[:,0,:])),\n",
      "              vmin=-1, vmax=1, cmap='bwr_r')\n",
      "pl.gca().axis('tight')\n",
      "pl.colorbar()"
     ],
     "language": "python",
     "metadata": {},
     "outputs": [],
     "prompt_number": null
    },
    {
     "cell_type": "code",
     "collapsed": false,
     "input": [
      "pl.errorbar(np.arange(32), chi_w[0], chierr_w[0])\n",
      "pl.errorbar(np.arange(32), chi_w[:,0], chierr_w[:,0])\n",
      "pl.xlim(0,16.5)"
     ],
     "language": "python",
     "metadata": {},
     "outputs": [],
     "prompt_number": null
    },
    {
     "cell_type": "code",
     "collapsed": false,
     "input": [
      "t_u4 = (u4_t - u4_w)/np.sqrt(u4err_t**2 + u4err_w**2)\n",
      "nu_u4 = (u4err_t**2 + u4err_w**2)**2/(u4err_t**4/121 + u4err_w**4/121)\n",
      "print \"t score =\", t_u4\n",
      "print \"dof =\", nu_u4"
     ],
     "language": "python",
     "metadata": {},
     "outputs": [],
     "prompt_number": null
    },
    {
     "cell_type": "code",
     "collapsed": false,
     "input": [
      "tdist_u4 = sst.t(nu_u4)\n",
      "pl.plot(np.linspace(-4,4), \n",
      "        tdist_u4.pdf(np.linspace(-4,4)))"
     ],
     "language": "python",
     "metadata": {},
     "outputs": [],
     "prompt_number": null
    },
    {
     "cell_type": "code",
     "collapsed": false,
     "input": [
      "print \"pvalue =\", 2 * tdist_u4.sf(np.abs(t_u4))"
     ],
     "language": "python",
     "metadata": {},
     "outputs": [],
     "prompt_number": null
    },
    {
     "cell_type": "code",
     "collapsed": false,
     "input": [
      "diff, cov = mystat.get_pooled_covariance(chibins_t[0], chibins_w[0])"
     ],
     "language": "python",
     "metadata": {},
     "outputs": [],
     "prompt_number": null
    },
    {
     "cell_type": "code",
     "collapsed": false,
     "input": [
      "corr = mystat.cov_normalise(cov)\n",
      "pl.pcolormesh(corr, cmap='bwr_r')\n",
      "pl.gca().axis('tight')\n",
      "pl.colorbar()"
     ],
     "language": "python",
     "metadata": {},
     "outputs": [],
     "prompt_number": null
    },
    {
     "cell_type": "code",
     "collapsed": false,
     "input": [
      "pl.semilogy(np.linalg.eigvalsh(np.cov(chibins_t[0])))\n",
      "pl.semilogy(np.linalg.eigvalsh(np.cov(chibins_w[0])))\n",
      "pl.semilogy(np.linalg.eigvalsh(cov))"
     ],
     "language": "python",
     "metadata": {},
     "outputs": [],
     "prompt_number": null
    },
    {
     "cell_type": "code",
     "collapsed": false,
     "input": [
      "ev, eb = np.linalg.eigh(cov)\n",
      "vf = ev\n",
      "df = eb.conj().T.dot(diff)"
     ],
     "language": "python",
     "metadata": {},
     "outputs": [],
     "prompt_number": null
    },
    {
     "cell_type": "code",
     "collapsed": false,
     "input": [
      "pl.plot(np.abs(np.sqrt(vf/121))[::-1])\n",
      "pl.plot(np.abs(df)[::-1])\n",
      "pl.yscale('log')"
     ],
     "language": "python",
     "metadata": {},
     "outputs": [],
     "prompt_number": null
    },
    {
     "cell_type": "code",
     "collapsed": false,
     "input": [
      "diff_r, pvar_r = mystat.diag_covariance(diff, cov)"
     ],
     "language": "python",
     "metadata": {},
     "outputs": [],
     "prompt_number": null
    },
    {
     "cell_type": "code",
     "collapsed": false,
     "input": [
      "pl.semilogy(np.abs(diff_r))\n",
      "pl.semilogy(pvar_r)"
     ],
     "language": "python",
     "metadata": {},
     "outputs": [],
     "prompt_number": null
    },
    {
     "cell_type": "code",
     "collapsed": false,
     "input": [
      "tsq = mystat.tsquared_symm_score(diff_r, pvar_r, nbins_w, nbins_t)\n",
      "tsq"
     ],
     "language": "python",
     "metadata": {},
     "outputs": [],
     "prompt_number": null
    },
    {
     "cell_type": "code",
     "collapsed": false,
     "input": [
      "def fplot(ax, dist, p=None, label='p.d.f.', sigm=4):\n",
      "    fcumsigma = sst.norm(0, 1).cdf(np.arange(-sigm, sigm+1))\n",
      "    xsigma = dist.ppf(fcumsigma)\n",
      "    xmean = xsigma[xsigma.size//2]\n",
      "\n",
      "    x = np.linspace(xsigma[0], xsigma[-1], 500)\n",
      "    for i in range(1, np.minimum(sigm,4)):\n",
      "        xupper = xsigma[xsigma.size//2 + i]\n",
      "        xlower = xsigma[xsigma.size//2 - i]\n",
      "        inner = slice(x.searchsorted(xlower), x.searchsorted(xupper))\n",
      "        ax.fill_between(x[inner], dist.pdf(x[inner]), alpha=0.4/sigm)\n",
      "\n",
      "    ax.plot(x, dist.pdf(x), label=label)\n",
      "    ax.plot([xmean] * 2, [0, dist.pdf(xmean)], '-b')\n",
      "    if p:\n",
      "        ax.plot([p], [dist.pdf(p)], 'or', ms=8)\n",
      "\n",
      "    ax.xlim(xsigma[0], xsigma[-1])\n",
      "    ax.legend()"
     ],
     "language": "python",
     "metadata": {},
     "outputs": [],
     "prompt_number": null
    },
    {
     "cell_type": "code",
     "collapsed": false,
     "input": [
      "fplot(pl, tsq['fdist'], tsq['t2_normed'], sigm=4,\n",
      "      label='$F_{N,%d}$' % tsq['ndata'])"
     ],
     "language": "python",
     "metadata": {},
     "outputs": [],
     "prompt_number": null
    },
    {
     "cell_type": "code",
     "collapsed": false,
     "input": [],
     "language": "python",
     "metadata": {},
     "outputs": [],
     "prompt_number": null
    },
    {
     "cell_type": "code",
     "collapsed": false,
     "input": [
      "pl.figure(figsize=(5,8))\n",
      "\n",
      "pl.subplot(311)\n",
      "#pl.subplot2grid((2, 2), (0, 0), colspan=2)\n",
      "pl.plot(np.arange(16), chi_w[0,:16], '-sk', markerfacecolor='none', label='trusted')\n",
      "pl.errorbar(np.arange(32), chi_t[0], chierr_t[0], color='red', label='test')\n",
      "pl.xlim(0,15.5)\n",
      "pl.legend(loc=[.08, .73])\n",
      "pl.xlabel('$x$')\n",
      "pl.ylabel('$\\chi$')\n",
      "pl.text(-0.14, 0.95, '(a)', weight='bold', size=12,\n",
      "        horizontalalignment='left', verticalalignment='top',\n",
      "        transform=pl.gca().transAxes)\n",
      "\n",
      "pl.axes([.44, .8, .40, .16])\n",
      "pl.errorbar(np.arange(32), chi_t[0] - chi_w[0], chierr_t[0], color='red',\n",
      "            label='test')\n",
      "pl.fill_between(np.arange(32), chierr_w[0], -chierr_w[0],\n",
      "                color='black', alpha=0.3, label='trusted')\n",
      "pl.plot(np.arange(32), np.zeros(32), color='gray')\n",
      "pl.gca().yaxis.tick_right()\n",
      "pl.yticks(.001 * np.arange(-2, 3))\n",
      "pl.xlim(0,15.5)\n",
      "pl.text(0.03, 0.95, '(b)', weight='bold', size=12,\n",
      "        horizontalalignment='left', verticalalignment='top',\n",
      "        transform=pl.gca().transAxes)\n",
      "\n",
      "pl.subplot(312)\n",
      "pl.plot(np.abs(np.sqrt(vf/121))[::-1], '-b', label=r'$|\\Delta\\chi_n|$')\n",
      "pl.plot(np.abs(df)[::-1], '-r', label=r'$s_n/\\sqrt{N}$')\n",
      "pl.legend(loc=[.08, .04])\n",
      "pl.yscale('log')\n",
      "pl.ylim(1e-10,1)\n",
      "pl.xlim(0,32)\n",
      "pl.xlabel('n')\n",
      "pl.ylabel(r'$\\Delta\\chi$')\n",
      "pl.text(-0.14, 0.95, '(c)', weight='bold', size=12,\n",
      "        horizontalalignment='left', verticalalignment='top',\n",
      "        transform=pl.gca().transAxes)\n",
      "\n",
      "pl.axes([.60, .45, .32, .17])\n",
      "pl.pcolormesh(corr, cmap='hot_r')\n",
      "pl.gca().axis('tight')\n",
      "pl.colorbar(ticks=np.arange(94,101)*.01)\n",
      "pl.text(-0.03, 1.03, '(d)', weight='bold', size=12,\n",
      "        horizontalalignment='right', verticalalignment='bottom',\n",
      "        transform=pl.gca().transAxes)\n",
      "pl.title(r'$\\mathrm{Corr}[\\chi_i,\\chi_j]$')\n",
      "\n",
      "pl.subplot(313)\n",
      "sigm = 4\n",
      "dist = tsq['fdist']\n",
      "x = np.linspace(0.001, 3, 600)\n",
      "xmean = dist.ppf(0.5)\n",
      "xfaill = dist.ppf(0.01)\n",
      "xfailu = dist.ppf(0.99)\n",
      "\n",
      "xend = x.searchsorted(tsq['t2_normed'])\n",
      "ifaill = x.searchsorted(xfaill)\n",
      "ifailu = x.searchsorted(xfailu)\n",
      "pl.plot(x, dist.pdf(x), label=r'$F_{N,%d}$' % tsq['ndata'])\n",
      "pl.plot([xmean] * 2, [0, dist.pdf(xmean)], '-b')\n",
      "pl.fill_between(x[:ifaill], dist.pdf(x[:ifaill]),\n",
      "                alpha=0.3, color='red', label=r'$p_< = \\alpha$')\n",
      "pl.fill_between(x[:xend], dist.pdf(x[:xend]),\n",
      "                alpha=0.3, color='blue', label=r'$p_<\\approx0.2$')\n",
      "pl.plot(tsq['t2_normed'], dist.pdf(tsq['t2_normed']), 'ob', label=r'')\n",
      "#pl.gca().yaxis.tick_right()\n",
      "\n",
      "pl.xlim(0, 2.5)\n",
      "pl.ylim(0, 1.3)\n",
      "pl.xlabel(r'$T^2$')\n",
      "pl.ylabel(r'p.d.f.')\n",
      "pl.legend()\n",
      "pl.text(-0.14, 0.95, '(e)', weight='bold', size=12,\n",
      "        horizontalalignment='left', verticalalignment='top',\n",
      "        transform=pl.gca().transAxes)\n",
      "    \n",
      "pl.tight_layout(pad=0.1)\n",
      "pl.savefig('../../figs/chi.pdf')\n",
      "pl.savefig('../../figs/chi.svg')"
     ],
     "language": "python",
     "metadata": {},
     "outputs": [],
     "prompt_number": null
    },
    {
     "cell_type": "code",
     "collapsed": false,
     "input": [],
     "language": "python",
     "metadata": {},
     "outputs": []
    },
    {
     "cell_type": "code",
     "collapsed": false,
     "input": [],
     "language": "python",
     "metadata": {},
     "outputs": []
    },
    {
     "cell_type": "code",
     "collapsed": false,
     "input": [],
     "language": "python",
     "metadata": {},
     "outputs": []
    }
   ],
   "metadata": {}
  }
 ]
}
