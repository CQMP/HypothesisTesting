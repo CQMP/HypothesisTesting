{
 "metadata": {
  "anaconda-cloud": {},
  "kernelspec": {
   "display_name": "Python [default]",
   "language": "python",
   "name": "python2"
  },
  "language_info": {
   "codemirror_mode": {
    "name": "ipython",
    "version": 2
   },
   "file_extension": ".py",
   "mimetype": "text/x-python",
   "name": "python",
   "nbconvert_exporter": "python",
   "pygments_lexer": "ipython2",
   "version": "2.7.12"
  },
  "name": ""
 },
 "nbformat": 3,
 "nbformat_minor": 0,
 "worksheets": [
  {
   "cells": [
    {
     "cell_type": "code",
     "collapsed": false,
     "input": [
      "import os\n",
      "import sys\n",
      "import numpy as np\n",
      "from warnings import warn\n",
      "import matplotlib.pyplot as pl\n",
      "import scipy.stats as stat\n",
      "\n",
      "%matplotlib inline\n",
      "\n",
      "pl.rcParams['text.usetex'] = True \n",
      "pl.rcParams['text.latex.preamble'] = [r'''\n",
      "    \\usepackage{helvet}\n",
      "    \\usepackage[helvet]{sfmath}\n",
      "    ''']\n",
      "pl.rcParams['font.family'] = 'sans-serif'\n",
      "pl.rcParams['font.sans-serif'] = 'ph'\n",
      "pl.rcParams['legend.fontsize'] = 12"
     ],
     "language": "python",
     "metadata": {},
     "outputs": [],
     "prompt_number": null
    },
    {
     "cell_type": "code",
     "collapsed": false,
     "input": [
      "sys.path = ['../../ctseg/python'] + sys.path"
     ],
     "language": "python",
     "metadata": {},
     "outputs": [],
     "prompt_number": null
    },
    {
     "cell_type": "code",
     "collapsed": false,
     "input": [
      "import ctseg_py.stat as mystat\n",
      "reload(mystat)"
     ],
     "language": "python",
     "metadata": {},
     "outputs": [],
     "prompt_number": null
    },
    {
     "cell_type": "code",
     "collapsed": false,
     "input": [
      "pl.rc('figure', figsize=(6,4))\n",
      "pl.rc('text', usetex=True)"
     ],
     "language": "python",
     "metadata": {},
     "outputs": [],
     "prompt_number": null
    },
    {
     "cell_type": "code",
     "collapsed": false,
     "input": [
      "#qmc_dir = './cthyb-af60f4fb/'\n",
      "qmc_dir = './cthyb-tested/'"
     ],
     "language": "python",
     "metadata": {},
     "outputs": [],
     "prompt_number": null
    },
    {
     "cell_type": "code",
     "collapsed": false,
     "input": [
      "qmc_results = np.load(qmc_dir + '/results.npz')\n",
      "ed_results = np.load('./ed-result/results.npz')"
     ],
     "language": "python",
     "metadata": {},
     "outputs": [],
     "prompt_number": null
    },
    {
     "cell_type": "code",
     "collapsed": false,
     "input": [
      "def tsquared_score(batches, exact):\n",
      "    nbatch = batches.shape[-1]\n",
      "    diff, cov = mystat.get_covariance(batches, exact)\n",
      "    diff, var = mystat.diag_covariance(diff, cov)\n",
      "    return mystat.tsquared_score(diff, var, nbatch)"
     ],
     "language": "python",
     "metadata": {},
     "outputs": [],
     "prompt_number": null
    },
    {
     "cell_type": "markdown",
     "metadata": {},
     "source": [
      "Hotelling's test with $\\chi_{\\uparrow\\uparrow}$\n",
      "-----------------------------------------------"
     ]
    },
    {
     "cell_type": "code",
     "collapsed": false,
     "input": [
      "nniw_batches = np.array([np.load(qmc_dir + fname)['nniw']\n",
      "                         for fname in os.listdir(qmc_dir)\n",
      "                         if fname.startswith('batch-')])"
     ],
     "language": "python",
     "metadata": {},
     "outputs": [],
     "prompt_number": null
    },
    {
     "cell_type": "code",
     "collapsed": false,
     "input": [
      "#chi_ed = ed_results['chiiw'][:,:,:,:,:20]\n",
      "chi_ed = ed_results['chiiw'].diagonal(0,0,2).diagonal(0,0,1).transpose(1,2,0)\n",
      "print chi_ed.shape"
     ],
     "language": "python",
     "metadata": {},
     "outputs": [],
     "prompt_number": null
    },
    {
     "cell_type": "code",
     "collapsed": true,
     "input": [
      "nbatch = nniw_batches.shape[0]"
     ],
     "language": "python",
     "metadata": {},
     "outputs": [],
     "prompt_number": null
    },
    {
     "cell_type": "code",
     "collapsed": false,
     "input": [
      "nniw_batches = nniw_batches[:,0,0,1:].reshape(nbatch, -1).T"
     ],
     "language": "python",
     "metadata": {},
     "outputs": [],
     "prompt_number": null
    },
    {
     "cell_type": "code",
     "collapsed": false,
     "input": [
      "cov = np.cov(nniw_batches, ddof=1)"
     ],
     "language": "python",
     "metadata": {},
     "outputs": [],
     "prompt_number": null
    },
    {
     "cell_type": "code",
     "collapsed": false,
     "input": [
      "cov *= 1"
     ],
     "language": "python",
     "metadata": {},
     "outputs": [],
     "prompt_number": null
    },
    {
     "cell_type": "code",
     "collapsed": false,
     "input": [
      "iw = np.arange(3, 40, 2) * np.pi/10"
     ],
     "language": "python",
     "metadata": {},
     "outputs": [],
     "prompt_number": null
    },
    {
     "cell_type": "code",
     "collapsed": true,
     "input": [],
     "language": "python",
     "metadata": {},
     "outputs": [],
     "prompt_number": null
    },
    {
     "cell_type": "code",
     "collapsed": false,
     "input": [
      "pl.pcolormesh(iw, iw, np.corrcoef(nniw_batches),\n",
      "              cmap='bwr_r', vmin=-1, vmax=1)\n",
      "pl.colorbar()\n",
      "pl.tight_layout()\n",
      "pl.gca()"
     ],
     "language": "python",
     "metadata": {},
     "outputs": [],
     "prompt_number": null
    },
    {
     "cell_type": "code",
     "collapsed": false,
     "input": [
      "nniw_null = chi_ed[0,0,1:].ravel()"
     ],
     "language": "python",
     "metadata": {},
     "outputs": [],
     "prompt_number": null
    },
    {
     "cell_type": "code",
     "collapsed": false,
     "input": [
      "diff = nniw_batches.mean(1) - nniw_null"
     ],
     "language": "python",
     "metadata": {},
     "outputs": [],
     "prompt_number": null
    },
    {
     "cell_type": "code",
     "collapsed": true,
     "input": [
      "nniw_mean = nniw_batches.mean(1)\n",
      "nniw_err = nniw_batches.std(1) / np.sqrt(nniw_batches.shape[1])"
     ],
     "language": "python",
     "metadata": {},
     "outputs": [],
     "prompt_number": null
    },
    {
     "cell_type": "code",
     "collapsed": false,
     "input": [
      "iw.size"
     ],
     "language": "python",
     "metadata": {},
     "outputs": [],
     "prompt_number": null
    },
    {
     "cell_type": "code",
     "collapsed": true,
     "input": [
      "iw = np.arange(1, 2*nniw_batches.shape[0] + 2, 2)* np.pi/10\n",
      "iw = iw[1:]"
     ],
     "language": "python",
     "metadata": {},
     "outputs": [],
     "prompt_number": null
    },
    {
     "cell_type": "code",
     "collapsed": false,
     "input": [
      "pl.errorbar(iw, nniw_mean, nniw_err, label=r'$\\chi$')\n",
      "pl.plot(iw, nniw_null, '-k', lw=.5)\n",
      "\n",
      "pl.legend()\n",
      "pl.xlim(0,12)\n",
      "pl.xlabel(r'$i\\omega$')\n",
      "\n",
      "pl.tight_layout()\n",
      "pl.savefig('./chiiw-data.pdf')"
     ],
     "language": "python",
     "metadata": {},
     "outputs": [],
     "prompt_number": null
    },
    {
     "cell_type": "code",
     "collapsed": false,
     "input": [
      "pl.errorbar(iw, (nniw_mean - nniw_null)/nniw_err)\n",
      "pl.ylabel(r'$[\\langle \\chi\\rangle - \\chi_{\\mathrm{exact}}]/\\Delta \\chi$')\n",
      "pl.xlabel(r'$i\\omega$')\n",
      "pl.xlim(0,12)\n",
      "\n",
      "pl.tight_layout()\n",
      "pl.savefig('./chiiw-errors.pdf')"
     ],
     "language": "python",
     "metadata": {},
     "outputs": [],
     "prompt_number": null
    },
    {
     "cell_type": "code",
     "collapsed": false,
     "input": [
      "tsquared = nbatch * diff.conj().T.dot(np.linalg.inv(cov)).dot(diff)\n",
      "tsq_uncorr = nbatch * (diff.conj().T * diff * 1./nniw_batches.var(1)).sum()\n",
      "print \"t^2 =\", tsquared\n",
      "print \"t_u^2 =\", tsq_uncorr"
     ],
     "language": "python",
     "metadata": {},
     "outputs": [],
     "prompt_number": null
    },
    {
     "cell_type": "code",
     "collapsed": false,
     "input": [
      "ndata = diff.size\n",
      "print \"p = \", ndata\n",
      "print \"n = \", nbatch"
     ],
     "language": "python",
     "metadata": {},
     "outputs": [],
     "prompt_number": null
    },
    {
     "cell_type": "code",
     "collapsed": false,
     "input": [
      "tsquared_norm = (nbatch-ndata)/(1.*ndata*(nbatch-1)) * tsquared\n",
      "print \"t^2_n =\", tsquared_norm\n",
      "\n",
      "tsquaredu_norm = (nbatch-ndata)/(1.*ndata*(nbatch-1)) * tsq_uncorr\n",
      "print \"t^2_n =\", tsquaredu_norm"
     ],
     "language": "python",
     "metadata": {},
     "outputs": [],
     "prompt_number": null
    },
    {
     "cell_type": "code",
     "collapsed": false,
     "input": [
      "fdist = stat.f(ndata, nbatch-ndata)\n",
      "\n",
      "flim = fdist.ppf([0.00001, 0.00135, 0.0227, 0.159, 0.5, .841, 0.9773, 0.998, 0.99999])\n",
      "print \"<F> =\", flim\n",
      "\n",
      "pl.figure(figsize=(4,2.8))\n",
      "x = np.linspace(flim[0], flim[-1], 500)\n",
      "for i in range(1, len(flim)//2+1):\n",
      "    inner = slice(x.searchsorted(flim[i]), x.searchsorted(flim[-i-1]))\n",
      "    pl.fill_between(x[inner], fdist.pdf(x[inner]), alpha=0.15)\n",
      "pl.plot([fdist.mean()] * 2, [0, fdist.pdf(fdist.mean())], '-b', label=r\"$F_{19}(T^2)$\")\n",
      "\n",
      "pl.plot(x, fdist.pdf(x))\n",
      "pl.plot([tsquared_norm] * 2, [0, fdist.pdf(tsquared_norm)], '-r', lw=2);\n",
      "pl.legend()\n",
      "\n",
      "pl.xlim(0,3)\n",
      "pl.tight_layout()\n",
      "pl.savefig('./pdf-chi.pdf')"
     ],
     "language": "python",
     "metadata": {},
     "outputs": [],
     "prompt_number": null
    },
    {
     "cell_type": "code",
     "collapsed": false,
     "input": [
      "tsquared_score(nniw_batches, nniw_null)"
     ],
     "language": "python",
     "metadata": {},
     "outputs": [],
     "prompt_number": null
    },
    {
     "cell_type": "markdown",
     "metadata": {},
     "source": [
      "Retry with all components and correlation analysis\n",
      "--------------------------------------------------"
     ]
    },
    {
     "cell_type": "code",
     "collapsed": false,
     "input": [
      "nniw_batches = np.array([np.load(qmc_dir + fname)['nniw']\n",
      "                         for fname in os.listdir(qmc_dir)\n",
      "                         if fname.startswith('batch-')])"
     ],
     "language": "python",
     "metadata": {},
     "outputs": [],
     "prompt_number": null
    },
    {
     "cell_type": "code",
     "collapsed": false,
     "input": [
      "nniw_batches = nniw_batches[...,1:].reshape(nbatch, -1).T"
     ],
     "language": "python",
     "metadata": {},
     "outputs": [],
     "prompt_number": null
    },
    {
     "cell_type": "code",
     "collapsed": false,
     "input": [
      "ndata = nniw_batches.shape[0]\n",
      "print \"p = \", ndata"
     ],
     "language": "python",
     "metadata": {},
     "outputs": [],
     "prompt_number": null
    },
    {
     "cell_type": "code",
     "collapsed": false,
     "input": [
      "cov = np.cov(nniw_batches, ddof=1)"
     ],
     "language": "python",
     "metadata": {},
     "outputs": [],
     "prompt_number": null
    },
    {
     "cell_type": "code",
     "collapsed": false,
     "input": [
      "pl.figure(figsize=(5.4,4.5))\n",
      "pl.pcolormesh(np.corrcoef(nniw_batches), cmap='bwr_r', vmin=-1, vmax=1)\n",
      "for x in range(1,4):\n",
      "    pl.plot([19*x,19*x], [0,76], ':k', lw=1)\n",
      "    pl.plot([0,76], [19*x,19*x], ':k', lw=1)\n",
      "\n",
      "pl.colorbar()\n",
      "\n",
      "pl.title(r'$\\mathrm{Corr}[\\chi_{ij}(i\\omega)]$')\n",
      "pl.xlim(0,76)\n",
      "pl.ylim(0,76)\n",
      "pl.gca().invert_yaxis()\n",
      "\n",
      "pos = [9, 28, 47, 66]\n",
      "labels = [\n",
      "    r'$\\chi_{\\uparrow\\uparrow}$', \n",
      "    r'$\\chi_{\\uparrow\\downarrow}$', \n",
      "    r'$\\chi_{\\downarrow\\uparrow}$', \n",
      "    r'$\\chi_{\\downarrow\\downarrow}$',\n",
      "    ]\n",
      "\n",
      "pl.gca().xaxis.set_ticks(pos)\n",
      "pl.gca().xaxis.set_ticklabels(labels)\n",
      "pl.gca().xaxis.set_ticks_position('none')\n",
      "pl.gca().yaxis.set_ticks(pos)\n",
      "pl.gca().yaxis.set_ticklabels(labels)\n",
      "pl.gca().yaxis.set_ticks_position('none');\n",
      "\n",
      "pl.tight_layout()\n",
      "pl.savefig('./corr-matrix.pdf')"
     ],
     "language": "python",
     "metadata": {},
     "outputs": [],
     "prompt_number": null
    },
    {
     "cell_type": "code",
     "collapsed": false,
     "input": [
      "nniw_null = chi_ed[...,1:].ravel()"
     ],
     "language": "python",
     "metadata": {},
     "outputs": [],
     "prompt_number": null
    },
    {
     "cell_type": "code",
     "collapsed": false,
     "input": [
      "diff = nniw_batches.mean(1) - nniw_null"
     ],
     "language": "python",
     "metadata": {},
     "outputs": [],
     "prompt_number": null
    },
    {
     "cell_type": "code",
     "collapsed": false,
     "input": [
      "pl.errorbar(np.arange(ndata), diff,\n",
      "            nniw_batches.std(1)/np.sqrt(nbatch));"
     ],
     "language": "python",
     "metadata": {},
     "outputs": [],
     "prompt_number": null
    },
    {
     "cell_type": "code",
     "collapsed": false,
     "input": [
      "ev, eb = np.linalg.eigh(cov)"
     ],
     "language": "python",
     "metadata": {},
     "outputs": [],
     "prompt_number": null
    },
    {
     "cell_type": "code",
     "collapsed": false,
     "input": [
      "pl.plot(np.abs(ev))\n",
      "pl.yscale('log')\n",
      "ndata_dep = ev.searchsorted(1e-14)\n",
      "ndata_ind = ndata - ndata_dep\n",
      "print \"p = \", ndata\n",
      "print \"p_ind = \", ndata_ind"
     ],
     "language": "python",
     "metadata": {},
     "outputs": [],
     "prompt_number": null
    },
    {
     "cell_type": "code",
     "collapsed": false,
     "input": [
      "sigmar = ev[ndata_dep:]\n",
      "indproj = eb[:, ndata_dep:]\n",
      "np.allclose(np.einsum('ij,j,kj->ik', indproj, sigmar, indproj.conj()),\n",
      "            cov, atol=1e-10, rtol=1e-10)"
     ],
     "language": "python",
     "metadata": {},
     "outputs": [],
     "prompt_number": null
    },
    {
     "cell_type": "code",
     "collapsed": false,
     "input": [
      "diff_proj = diff.dot(indproj)\n",
      "err_proj = (nniw_batches.std(1)/np.sqrt(nbatch)).dot(indproj)\n",
      "pl.errorbar(np.arange(ndata_ind), diff_proj, err_proj)"
     ],
     "language": "python",
     "metadata": {},
     "outputs": [],
     "prompt_number": null
    },
    {
     "cell_type": "code",
     "collapsed": false,
     "input": [
      "tsquared = nbatch * (diff_proj.conj() * diff_proj/sigmar).sum()\n",
      "print \"t^2 = \", tsquared"
     ],
     "language": "python",
     "metadata": {},
     "outputs": [],
     "prompt_number": null
    },
    {
     "cell_type": "code",
     "collapsed": false,
     "input": [
      "tsquared_norm = (nbatch-ndata_ind)/(1.*ndata_ind*(nbatch-1)) * tsquared\n",
      "print \"t^2_n =\", tsquared_norm"
     ],
     "language": "python",
     "metadata": {},
     "outputs": [],
     "prompt_number": null
    },
    {
     "cell_type": "code",
     "collapsed": false,
     "input": [
      "fdist = stat.f(ndata_ind, nbatch-ndata_ind)\n",
      "\n",
      "flim = fdist.ppf([0.0001, 0.0227, 0.159, 0.5, .841, 0.9773, 0.9999])\n",
      "print \"<F> =\", flim\n",
      "\n",
      "x = np.linspace(flim[0], flim[-1], 500)\n",
      "for i in range(1, len(flim)//2+1):\n",
      "    inner = slice(x.searchsorted(flim[i]), x.searchsorted(flim[-i-1]))\n",
      "    pl.fill_between(x[inner], fdist.pdf(x[inner]), alpha=0.05)\n",
      "pl.plot([fdist.mean()] * 2, [0, fdist.pdf(fdist.mean())], '-b')\n",
      "\n",
      "pl.plot(x, fdist.pdf(x))\n",
      "pl.plot([tsquared_norm] * 2, [0, fdist.pdf(tsquared_norm)], '-r', lw=2);"
     ],
     "language": "python",
     "metadata": {},
     "outputs": [],
     "prompt_number": null
    },
    {
     "cell_type": "code",
     "collapsed": false,
     "input": [
      "pval_upper = fdist.sf(tsquared_norm.real)\n",
      "pval_lower = 1. - pval_upper\n",
      "print \"p_upper =\", pval_upper\n",
      "print \"p_lower =\", pval_lower"
     ],
     "language": "python",
     "metadata": {},
     "outputs": [],
     "prompt_number": null
    },
    {
     "cell_type": "code",
     "collapsed": false,
     "input": [
      "tsquared_score(nniw_batches, nniw_null)"
     ],
     "language": "python",
     "metadata": {},
     "outputs": [],
     "prompt_number": null
    },
    {
     "cell_type": "code",
     "collapsed": true,
     "input": [],
     "language": "python",
     "metadata": {},
     "outputs": [],
     "prompt_number": null
    }
   ],
   "metadata": {}
  }
 ]
}